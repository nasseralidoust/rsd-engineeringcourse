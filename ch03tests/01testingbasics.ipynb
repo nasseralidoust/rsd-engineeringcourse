{
  "nbformat": 4,
  "nbformat_minor": 0,
  "metadata": {
    "jekyll": {
      "display_name": "Testing Basics"
    },
    "kernelspec": {
      "display_name": "Python 3",
      "language": "python",
      "name": "python3"
    },
    "language_info": {
      "codemirror_mode": {
        "name": "ipython",
        "version": 3
      },
      "file_extension": ".py",
      "mimetype": "text/x-python",
      "name": "python",
      "nbconvert_exporter": "python",
      "pygments_lexer": "ipython3",
      "version": "3.5.3"
    },
    "colab": {
      "name": "01testingbasics.ipynb",
      "provenance": []
    }
  },
  "cells": [
    {
      "cell_type": "markdown",
      "metadata": {
        "id": "H3sCMxdhMNMI",
        "colab_type": "text"
      },
      "source": [
        "# Testing"
      ]
    },
    {
      "cell_type": "markdown",
      "metadata": {
        "id": "0bf8ShRAMNML",
        "colab_type": "text"
      },
      "source": [
        "## Introduction"
      ]
    },
    {
      "cell_type": "markdown",
      "metadata": {
        "id": "ByiiHVLTMNMN",
        "colab_type": "text"
      },
      "source": [
        "### A few reasons not to do testing"
      ]
    },
    {
      "cell_type": "markdown",
      "metadata": {
        "id": "Q6-FQ7Q7MNMP",
        "colab_type": "text"
      },
      "source": [
        "Sensibility                               | Sense\n",
        "  ------------------------------------    |  -------------------------------------\n",
        "  **It's boring**                         |  *Maybe*\n",
        "  **Code is just a one off throwaway**    |  *As with most research codes*\n",
        "  **No time for it**                      |  *A bit more code, a lot less debugging*\n",
        "  **Tests can be buggy too**              |  *See above*\n",
        "  **Not a professional programmer**       |  *See above*\n",
        "  **Will do it later**                    | *See above*"
      ]
    },
    {
      "cell_type": "markdown",
      "metadata": {
        "id": "88ftfseBMNMR",
        "colab_type": "text"
      },
      "source": [
        "### A few reasons to do testing\n",
        "\n",
        "* **lazyness** *testing saves time*\n",
        "* **peace of mind** *tests (should) ensure code is correct*\n",
        "* **runnable specification** *best way to let others know what a function should do and\n",
        "    not do*\n",
        "* **reproducible debugging** *debugging that happened and is saved for later reuse*\n",
        "* code structure / **modularity** *since the code is designed for at least two situations*\n",
        "* easier to modify *since results can be tested*"
      ]
    },
    {
      "cell_type": "markdown",
      "metadata": {
        "id": "wlq7AEILMNMU",
        "colab_type": "text"
      },
      "source": [
        "### Not a panacea\n",
        "\n",
        "> Trying to improve the quality of software by doing more testing is like trying to lose weight by\n",
        "> weighting yourself more often.\n",
        "    - Steve McConnell"
      ]
    },
    {
      "cell_type": "markdown",
      "metadata": {
        "id": "Sa2SqFbuMNMV",
        "colab_type": "text"
      },
      "source": [
        " * Testing won't corrrect a buggy code\n",
        " * Testing will tell you were the bugs are...\n",
        " * ... if the test cases *cover* the bugs"
      ]
    },
    {
      "cell_type": "markdown",
      "metadata": {
        "id": "VH4JCoG2MNMZ",
        "colab_type": "text"
      },
      "source": [
        "### Tests at different scales\n",
        "\n",
        "Level of test               |Area covered by test\n",
        "--------------------------  |----------------------\n",
        "**Unit testing**            |smallest logical block of work (often < 10 lines of code)\n",
        "**Component testing**       |several logical blocks of work together\n",
        "**Integration testing**     |all components together / whole program\n",
        "\n",
        "\n",
        "<br>\n",
        "<div class=\"fragment fade-in\">\n",
        "Always start at the smallest scale! \n",
        "\n",
        "<div class=\"fragment grow\">\n",
        "If a unit test is too complicated, go smaller.\n",
        "</div>\n",
        "</div>"
      ]
    },
    {
      "cell_type": "markdown",
      "metadata": {
        "id": "kHlxx1aAMNMb",
        "colab_type": "text"
      },
      "source": [
        "### Legacy code hardening\n",
        "\n",
        "* Very difficult to create unit-tests for existing code\n",
        "* Instead we make a **regression test**\n",
        "* Run program as a black box:\n",
        "\n",
        "```\n",
        "setup input\n",
        "run program\n",
        "read output\n",
        "check output against expected result\n",
        "```\n",
        "\n",
        "* Does not test correctness of code\n",
        "* Checks code is a similarly wrong on day N as day 0"
      ]
    },
    {
      "cell_type": "markdown",
      "metadata": {
        "id": "cbRYAmVAMNMc",
        "colab_type": "text"
      },
      "source": [
        "### Testing vocabulary\n",
        "\n",
        "* **fixture**: input data\n",
        "* **action**: function that is being tested\n",
        "* **expected result**: the output that should be obtained\n",
        "* **actual result**: the output that is obtained\n",
        "* **coverage**: proportion of all possible paths in the code that the tests take"
      ]
    },
    {
      "cell_type": "markdown",
      "metadata": {
        "id": "YB8wPi2uMNMf",
        "colab_type": "text"
      },
      "source": [
        "### Branch coverage:"
      ]
    },
    {
      "cell_type": "markdown",
      "metadata": {
        "attributes": {
          "classes": [
            " python"
          ],
          "id": ""
        },
        "id": "IkmYZtAWMNMg",
        "colab_type": "text"
      },
      "source": [
        "```python\n",
        "if energy > 0:\n",
        "    ! Do this \n",
        "else:\n",
        "    ! Do that\n",
        "```"
      ]
    },
    {
      "cell_type": "markdown",
      "metadata": {
        "id": "W9Sk3_oaMNMh",
        "colab_type": "text"
      },
      "source": [
        "Is there a test for both `energy > 0` and `energy <= 0`?"
      ]
    },
    {
      "cell_type": "code",
      "metadata": {
        "id": "LdsWdTMDMRFn",
        "colab_type": "code",
        "colab": {
          "base_uri": "https://localhost:8080/",
          "height": 130
        },
        "outputId": "94a96e5c-d044-4560-ee3d-a45e3350860f"
      },
      "source": [
        "New code to test"
      ],
      "execution_count": 1,
      "outputs": [
        {
          "output_type": "error",
          "ename": "SyntaxError",
          "evalue": "ignored",
          "traceback": [
            "\u001b[0;36m  File \u001b[0;32m\"<ipython-input-1-f11f98ca7ae9>\"\u001b[0;36m, line \u001b[0;32m1\u001b[0m\n\u001b[0;31m    New code to test\u001b[0m\n\u001b[0m           ^\u001b[0m\n\u001b[0;31mSyntaxError\u001b[0m\u001b[0;31m:\u001b[0m invalid syntax\n"
          ]
        }
      ]
    },
    {
      "cell_type": "code",
      "metadata": {
        "id": "3uXpCEj7MS7q",
        "colab_type": "code",
        "colab": {}
      },
      "source": [
        ""
      ],
      "execution_count": 0,
      "outputs": []
    }
  ]
}